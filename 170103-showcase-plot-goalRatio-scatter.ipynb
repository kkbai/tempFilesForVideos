{
 "cells": [
  {
   "cell_type": "code",
   "execution_count": 1,
   "metadata": {
    "collapsed": true
   },
   "outputs": [],
   "source": [
    "import pandas as pd\n",
    "import numpy as np\n",
    "from bokeh.io import output_notebook, show\n",
    "from bokeh.plotting import figure\n",
    "from bokeh.charts import Scatter\n",
    "\n",
    "from bokeh.layouts import row, column, widgetbox\n",
    "from bokeh.models import CustomJS, ColumnDataSource, HoverTool, Range1d\n",
    "from bokeh.models.widgets import Slider, Select"
   ]
  },
  {
   "cell_type": "code",
   "execution_count": 2,
   "metadata": {
    "collapsed": false,
    "scrolled": true
   },
   "outputs": [],
   "source": [
    "# output_notebook()"
   ]
  },
  {
   "cell_type": "code",
   "execution_count": 3,
   "metadata": {
    "collapsed": true
   },
   "outputs": [],
   "source": [
    "path_in = './data/'  # input path\n",
    "df = pd.read_csv( path_in+'goals_perSeason.csv' )\n",
    "# team name in all leagues\n",
    "teams_all = pd.read_csv( path_in+'teams_all.csv' )['teams_all'].tolist()\n",
    "# team name in a league\n",
    "teams_league = {'SP1':[],'E0':[],'D1':[],'I1':[],'F1':[]}\n",
    "for item in teams_league:\n",
    "    teams_league[item] = pd.read_csv( path_in+'teams_'+item+'.csv' )['teams_league'].tolist()"
   ]
  },
  {
   "cell_type": "code",
   "execution_count": 4,
   "metadata": {
    "collapsed": true
   },
   "outputs": [],
   "source": [
    "league_list = ['Spanish La Liga','English Premier League','German BundesLiga','Italian Serie-A','French Ligue-1']"
   ]
  },
  {
   "cell_type": "code",
   "execution_count": 5,
   "metadata": {
    "collapsed": true
   },
   "outputs": [],
   "source": [
    "df_plot_ratio = df\n",
    "df_plot_ratio['y'] = df_plot_ratio['Barcelona-ratio_goal_against']\n",
    "source = ColumnDataSource(data=df_plot_ratio)"
   ]
  },
  {
   "cell_type": "markdown",
   "metadata": {},
   "source": [
    "## Plot time-series of goal ratio: scored/against"
   ]
  },
  {
   "cell_type": "code",
   "execution_count": 6,
   "metadata": {
    "collapsed": true
   },
   "outputs": [],
   "source": [
    "TOOLS = \"pan,wheel_zoom,reset,save\"\n",
    "# color_opt = ['#BD1550','#F8CA00','green','red','blue','black','cyan','magenta']\n",
    "plot_properties = dict(tools=TOOLS, x_axis_label='time', y_axis_label='scored / against', background_fill_color=\"#E8DDCB\")\n",
    "# x_axis_type=\"datetime\", \n",
    "\n",
    "p = figure(title = 'Goal ratio (per game)', **plot_properties)\n",
    "p.plot_width = 500\n",
    "p.plot_height = 500\n",
    "p.axis.axis_label_standoff = 10\n",
    "p.axis.axis_label_text_font_size = '20pt'\n",
    "p.title.text_font_size = '16pt'"
   ]
  },
  {
   "cell_type": "code",
   "execution_count": 7,
   "metadata": {
    "collapsed": true
   },
   "outputs": [],
   "source": [
    "# baseline of the plot - all teams' performance\n",
    "for teamName in teams_all:\n",
    "    p.line( df['season'].values, df[teamName+'-ratio_goal_against'].values, color='gray', line_width=0.5 )"
   ]
  },
  {
   "cell_type": "code",
   "execution_count": 8,
   "metadata": {
    "collapsed": false
   },
   "outputs": [],
   "source": [
    "# Selected team - interactive component\n",
    "p.line('season', 'y', source=source, color='#BD1550', line_width=3)\n",
    "\n",
    "# this callback updates the plot\n",
    "callback_plot = CustomJS(args=dict(source=source), code=\"\"\"\n",
    "    var data = source.get('data');\n",
    "    var f = cb_obj.get('value')\n",
    "    \n",
    "    data['y'] = data[f+'-ratio_goal_against'];\n",
    "    source.trigger('change');  \n",
    "\"\"\")\n",
    "\n",
    "s1 = Select(title=\"League:\", value=\"Spanish La Liga\", options=league_list)\n",
    "s2 = Select(title=\"Teams in the league:\", value=\"Barcelona\", options=teams_league['SP1'], callback=callback_plot)\n",
    "\n",
    "# this callback updates the list in Select-2\n",
    "s1.callback = CustomJS(args=dict(s1=s1, s2=s2), code=\"\"\"\n",
    "      var f = s1.get('value');\n",
    "      if (f == 'Spanish La Liga') \n",
    "        {s2.set('options', ['Alaves','Albacete','Almeria','Ath Bilbao','Ath Madrid','Barcelona','Betis','Cadiz','Celta','Compostela','Cordoba','Eibar','Elche','Espanol','Extremadura','Getafe','Gimnastic','Granada','Hercules','La Coruna','Las Palmas','Lerida','Levante','Logrones','Malaga','Mallorca','Merida','Murcia','Numancia','Osasuna','Oviedo','Real Madrid','Recreativo','Salamanca','Santander','Sevilla','Sociedad','Sp Gijon','Tenerife','Valencia','Valladolid','Vallecano','Villareal','Villarreal','Xerez','Zaragoza'])}\n",
    "      if (f == 'English Premier League') \n",
    "        {s2.set('options', ['Arsenal','Aston Villa','Barnsley','Birmingham','Blackburn','Blackpool','Bolton','Bournemouth','Bradford','Burnley','Cardiff','Charlton','Chelsea','Coventry','Crystal Palace','Derby','Everton','Fulham','Hull','Ipswich','Leeds','Leicester','Liverpool','Man City','Man United','Middlesboro','Middlesbrough','Newcastle','Norwich',\"Nott'm Forest\",'Oldham','Portsmouth','QPR','Reading','Sheffield United','Sheffield Weds','Southampton','Stoke','Sunderland','Swansea','Swindon','Tottenham','Watford','West Brom','West Ham','Wigan','Wimbledon','Wolves'])}\n",
    "      if (f == 'German BundesLiga') \n",
    "        {s2.set('options', ['Aachen','Augsburg','Bayern Munich','Bielefeld','Bochum','Braunschweig','Cottbus','Darmstadt','Dortmund','Dresden','Duisburg','Dusseldorf','Ein Frankfurt','FC Koln','Fortuna Dusseldorf','Freiburg','Greuther Furth','Hamburg','Hannover','Hansa Rostock','Hertha','Hoffenheim','Ingolstadt','Kaiserslautern','Karlsruhe','Leipzig','Leverkusen',\"M'Gladbach\",\"M'gladbach\",'Mainz','Munich 1860','Nurnberg','Paderborn','Schalke 04','St Pauli','Stuttgart','Uerdingen','Ulm','Unterhaching','Wattenscheid','Werder Bremen','Wolfsburg'])}\n",
    "      if (f == 'Italian Serie-A') \n",
    "        {s2.set('options', teams_league['Ancona','Ascoli','Atalanta','Bari','Bologna','Brescia','Cagliari','Carpi','Catania','Cesena','Chievo','Como','Cremonese','Empoli','Fiorentina','Foggia','Frosinone','Genoa','Inter','Juventus','Lazio','Lecce','Livorno','Messina','Milan','Modena','Napoli','Novara','Padova','Palermo','Parma','Perugia','Pescara','Piacenza','Reggiana','Reggina','Roma','Salernitana','Sampdoria','Sassuolo','Siena','Torino','Treviso','Udinese','Venezia','Verona','Vicenza'])}\n",
    "      if (f == 'French Ligue-1') \n",
    "        {s2.set('options', teams_league['Ajaccio','Ajaccio GFCO','Angers','Arles','Auxerre','Bastia','Bordeaux','Boulogne','Brest','Caen','Cannes','Chateauroux','Dijon','Evian Thonon Gaillard','Grenoble','Gueugnon','Guingamp','Istres','Le Havre','Le Mans','Lens','Lille','Lorient','Lyon','Marseille','Martigues','Metz','Monaco','Montpellier','Nancy','Nantes','Nice','Paris SG','Reims','Rennes','Sedan','Sochaux','St Etienne','Strasbourg','Toulouse','Troyes','Valenciennes'])}\n",
    "\"\"\")\n",
    "\n",
    "# show ( row(p, column(s1,s2)) )"
   ]
  },
  {
   "cell_type": "markdown",
   "metadata": {},
   "source": [
    "## Scatter plot of goal scored v.s. goal against"
   ]
  },
  {
   "cell_type": "code",
   "execution_count": 9,
   "metadata": {
    "collapsed": true
   },
   "outputs": [],
   "source": [
    "df_plot_scatter = df\n",
    "df_plot_scatter['x'] = df_plot_scatter['Barcelona-goalPerGame']\n",
    "df_plot_scatter['y'] = df_plot_scatter['Barcelona-againstPerGame']\n",
    "df_plot_scatter['x_point'] = df_plot_scatter['Barcelona-goalPerGame'][22]\n",
    "df_plot_scatter['y_point'] = df_plot_scatter['Barcelona-againstPerGame'][22]\n",
    "source_scatter = ColumnDataSource(data=df_plot_scatter)"
   ]
  },
  {
   "cell_type": "code",
   "execution_count": 10,
   "metadata": {
    "collapsed": true
   },
   "outputs": [],
   "source": [
    "for leagueName in teams_league:\n",
    "    df_plot_scatter[leagueName] = 0\n",
    "    for teamRun in teams_league[leagueName]:\n",
    "        df_plot_scatter[leagueName] += df_plot_scatter[teamRun+'-goalPerGame']\n",
    "        df_plot_scatter[leagueName] += df_plot_scatter[teamRun+'-againstPerGame']\n",
    "    df_plot_scatter[leagueName] = df_plot_scatter[leagueName] / len(teams_league[leagueName])"
   ]
  },
  {
   "cell_type": "markdown",
   "metadata": {},
   "source": [
    "### Start plotting "
   ]
  },
  {
   "cell_type": "code",
   "execution_count": 11,
   "metadata": {
    "collapsed": true
   },
   "outputs": [],
   "source": [
    "hover = HoverTool(tooltips=[(\"Year\", \"@season\"),(\"Scored\", \"@x\"),(\"Against\", \"@y\")])"
   ]
  },
  {
   "cell_type": "code",
   "execution_count": 12,
   "metadata": {
    "collapsed": false
   },
   "outputs": [],
   "source": [
    "TOOLS = [hover] #\"pan,wheel_zoom,reset,save,hover\" #\"pan,wheel_zoom,reset,save,hover\"\n",
    "# color_opt = ['#BD1550','#F8CA00','green','red','blue','black','cyan','magenta']\n",
    "plot_properties = dict(tools=TOOLS, x_axis_label='goal scored', y_axis_label='goal against', background_fill_color=\"#E8DDCB\")\n",
    "# x_axis_type=\"datetime\", \n",
    "\n",
    "p2 = figure(title = 'Goal scored v.s. against (per game)', **plot_properties)\n",
    "p2.plot_width = 500\n",
    "p2.plot_height = 500\n",
    "p2.axis.axis_label_standoff = 10\n",
    "p2.axis.axis_label_text_font_size = '20pt'\n",
    "p2.title.text_font_size = '16pt'\n",
    "\n",
    "p2.x_range = Range1d(1, 3.5)\n",
    "p2.y_range = Range1d(0.25, 1.75)\n",
    "\n",
    "symbolSize = [x**1.8/6 for x in xrange(1,24)]"
   ]
  },
  {
   "cell_type": "code",
   "execution_count": 13,
   "metadata": {
    "collapsed": false
   },
   "outputs": [
    {
     "data": {
      "text/html": [
       "<div style=\"display: table;\"><div style=\"display: table-row;\"><div style=\"display: table-cell;\"><b title=\"bokeh.models.renderers.GlyphRenderer\">GlyphRenderer</b>(</div><div style=\"display: table-cell;\">id&nbsp;=&nbsp;'bbf5c8c2-da79-4995-89a8-6fb923c48ea5', <span id=\"9c3c535e-a65a-4e6b-85f1-ab7d85923885\" style=\"cursor: pointer;\">&hellip;)</span></div></div><div class=\"7cd4b5a8-ddf4-44a6-a111-be2f57b4b1c7\" style=\"display: none;\"><div style=\"display: table-cell;\"></div><div style=\"display: table-cell;\">data_source&nbsp;=&nbsp;ColumnDataSource(id='92217752-e2ad-49de-a439-45f68f1bc994', ...),</div></div><div class=\"7cd4b5a8-ddf4-44a6-a111-be2f57b4b1c7\" style=\"display: none;\"><div style=\"display: table-cell;\"></div><div style=\"display: table-cell;\">glyph&nbsp;=&nbsp;Circle(id='17a9940e-9617-430a-b05e-0b821ccb58da', ...),</div></div><div class=\"7cd4b5a8-ddf4-44a6-a111-be2f57b4b1c7\" style=\"display: none;\"><div style=\"display: table-cell;\"></div><div style=\"display: table-cell;\">hover_glyph&nbsp;=&nbsp;None,</div></div><div class=\"7cd4b5a8-ddf4-44a6-a111-be2f57b4b1c7\" style=\"display: none;\"><div style=\"display: table-cell;\"></div><div style=\"display: table-cell;\">level&nbsp;=&nbsp;'glyph',</div></div><div class=\"7cd4b5a8-ddf4-44a6-a111-be2f57b4b1c7\" style=\"display: none;\"><div style=\"display: table-cell;\"></div><div style=\"display: table-cell;\">name&nbsp;=&nbsp;None,</div></div><div class=\"7cd4b5a8-ddf4-44a6-a111-be2f57b4b1c7\" style=\"display: none;\"><div style=\"display: table-cell;\"></div><div style=\"display: table-cell;\">nonselection_glyph&nbsp;=&nbsp;Circle(id='f69305cd-0105-4a76-afd6-08d28dea2b15', ...),</div></div><div class=\"7cd4b5a8-ddf4-44a6-a111-be2f57b4b1c7\" style=\"display: none;\"><div style=\"display: table-cell;\"></div><div style=\"display: table-cell;\">selection_glyph&nbsp;=&nbsp;None,</div></div><div class=\"7cd4b5a8-ddf4-44a6-a111-be2f57b4b1c7\" style=\"display: none;\"><div style=\"display: table-cell;\"></div><div style=\"display: table-cell;\">tags&nbsp;=&nbsp;[],</div></div><div class=\"7cd4b5a8-ddf4-44a6-a111-be2f57b4b1c7\" style=\"display: none;\"><div style=\"display: table-cell;\"></div><div style=\"display: table-cell;\">visible&nbsp;=&nbsp;True,</div></div><div class=\"7cd4b5a8-ddf4-44a6-a111-be2f57b4b1c7\" style=\"display: none;\"><div style=\"display: table-cell;\"></div><div style=\"display: table-cell;\">x_range_name&nbsp;=&nbsp;'default',</div></div><div class=\"7cd4b5a8-ddf4-44a6-a111-be2f57b4b1c7\" style=\"display: none;\"><div style=\"display: table-cell;\"></div><div style=\"display: table-cell;\">y_range_name&nbsp;=&nbsp;'default')</div></div></div>\n",
       "<script>\n",
       "(function() {\n",
       "  var expanded = false;\n",
       "  var ellipsis = document.getElementById(\"9c3c535e-a65a-4e6b-85f1-ab7d85923885\");\n",
       "  ellipsis.addEventListener(\"click\", function() {\n",
       "    var rows = document.getElementsByClassName(\"7cd4b5a8-ddf4-44a6-a111-be2f57b4b1c7\");\n",
       "    for (var i = 0; i < rows.length; i++) {\n",
       "      var el = rows[i];\n",
       "      el.style.display = expanded ? \"none\" : \"table-row\";\n",
       "    }\n",
       "    ellipsis.innerHTML = expanded ? \"&hellip;)\" : \"&lsaquo;&lsaquo;&lsaquo;\";\n",
       "    expanded = !expanded;\n",
       "  });\n",
       "})();\n",
       "</script>\n"
      ],
      "text/plain": [
       "GlyphRenderer(id='bbf5c8c2-da79-4995-89a8-6fb923c48ea5', ...)"
      ]
     },
     "execution_count": 13,
     "metadata": {},
     "output_type": "execute_result"
    }
   ],
   "source": [
    "p2.circle(df_plot_scatter['SP1'], df_plot_scatter['SP1'], color='#1f77b4', size=1, alpha = 0.8)\n",
    "p2.circle(df_plot_scatter['E0'], df_plot_scatter['E0'], color='#ff7f0e', size=1, alpha = 0.8)\n",
    "p2.circle(df_plot_scatter['D1'], df_plot_scatter['D1'], color='#2ca02c', size=1, alpha = 0.8)\n",
    "p2.circle(df_plot_scatter['I1'], df_plot_scatter['I1'], color='#9467bd', size=1, alpha = 0.8)\n",
    "p2.circle(df_plot_scatter['F1'], df_plot_scatter['F1'], color='gray', size=1, alpha = 0.8)"
   ]
  },
  {
   "cell_type": "code",
   "execution_count": 14,
   "metadata": {
    "collapsed": false
   },
   "outputs": [
    {
     "name": "stderr",
     "output_type": "stream",
     "text": [
      "/Users/Kunlun/anaconda2/lib/python2.7/site-packages/bokeh/util/deprecation.py:33: BokehDeprecationWarning: \n",
      "Supplying a user-defined data source AND iterable values to glyph methods is deprecated.\n",
      "\n",
      "See https://github.com/bokeh/bokeh/issues/2056 for more information.\n",
      "\n",
      "  warn(message)\n"
     ]
    }
   ],
   "source": [
    "# Selected team - interactive component\n",
    "p2.circle('x', 'y', source=source_scatter, color='#BD1550', size=symbolSize)\n",
    "p2.line('x', 'y', source=source_scatter, color='#BD1550', line_width=1)\n",
    "\n",
    "\n",
    "# this callback updates the plot\n",
    "callback_plot = CustomJS(args=dict(source=source_scatter), code=\"\"\"\n",
    "    var data = source.get('data');\n",
    "    var f = cb_obj.get('value')\n",
    "    \n",
    "    data['x'] = data[f+'-goalPerGame'];\n",
    "    data['y'] = data[f+'-againstPerGame'];\n",
    "    source.trigger('change');  \n",
    "\"\"\")\n",
    "\n",
    "sss1 = Select(title=\"League:\", value=\"Spanish La Liga\", options=league_list)\n",
    "sss2 = Select(title=\"Teams in the league:\", value=\"Barcelona\", options=teams_league['SP1'], callback=callback_plot)\n",
    "\n",
    "# this callback updates the list in Select-2\n",
    "sss1.callback = CustomJS(args=dict(sss1=sss1, sss2=sss2), code=\"\"\"\n",
    "      var f = sss1.get('value');\n",
    "      if (f == 'Spanish La Liga') \n",
    "        {sss2.set('options', ['Alaves','Albacete','Almeria','Ath Bilbao','Ath Madrid','Barcelona','Betis','Cadiz','Celta','Compostela','Cordoba','Eibar','Elche','Espanol','Extremadura','Getafe','Gimnastic','Granada','Hercules','La Coruna','Las Palmas','Lerida','Levante','Logrones','Malaga','Mallorca','Merida','Murcia','Numancia','Osasuna','Oviedo','Real Madrid','Recreativo','Salamanca','Santander','Sevilla','Sociedad','Sp Gijon','Tenerife','Valencia','Valladolid','Vallecano','Villareal','Villarreal','Xerez','Zaragoza'])}\n",
    "      if (f == 'English Premier League') \n",
    "        {sss2.set('options', ['Arsenal','Aston Villa','Barnsley','Birmingham','Blackburn','Blackpool','Bolton','Bournemouth','Bradford','Burnley','Cardiff','Charlton','Chelsea','Coventry','Crystal Palace','Derby','Everton','Fulham','Hull','Ipswich','Leeds','Leicester','Liverpool','Man City','Man United','Middlesboro','Middlesbrough','Newcastle','Norwich',\"Nott'm Forest\",'Oldham','Portsmouth','QPR','Reading','Sheffield United','Sheffield Weds','Southampton','Stoke','Sunderland','Swansea','Swindon','Tottenham','Watford','West Brom','West Ham','Wigan','Wimbledon','Wolves'])}\n",
    "      if (f == 'German BundesLiga') \n",
    "        {sss2.set('options', ['Aachen','Augsburg','Bayern Munich','Bielefeld','Bochum','Braunschweig','Cottbus','Darmstadt','Dortmund','Dresden','Duisburg','Dusseldorf','Ein Frankfurt','FC Koln','Fortuna Dusseldorf','Freiburg','Greuther Furth','Hamburg','Hannover','Hansa Rostock','Hertha','Hoffenheim','Ingolstadt','Kaiserslautern','Karlsruhe','Leipzig','Leverkusen',\"M'Gladbach\",\"M'gladbach\",'Mainz','Munich 1860','Nurnberg','Paderborn','Schalke 04','St Pauli','Stuttgart','Uerdingen','Ulm','Unterhaching','Wattenscheid','Werder Bremen','Wolfsburg'])}\n",
    "      if (f == 'Italian Serie-A') \n",
    "        {sss2.set('options', teams_league['Ancona','Ascoli','Atalanta','Bari','Bologna','Brescia','Cagliari','Carpi','Catania','Cesena','Chievo','Como','Cremonese','Empoli','Fiorentina','Foggia','Frosinone','Genoa','Inter','Juventus','Lazio','Lecce','Livorno','Messina','Milan','Modena','Napoli','Novara','Padova','Palermo','Parma','Perugia','Pescara','Piacenza','Reggiana','Reggina','Roma','Salernitana','Sampdoria','Sassuolo','Siena','Torino','Treviso','Udinese','Venezia','Verona','Vicenza'])}\n",
    "      if (f == 'French Ligue-1') \n",
    "        {sss2.set('options', teams_league['Ajaccio','Ajaccio GFCO','Angers','Arles','Auxerre','Bastia','Bordeaux','Boulogne','Brest','Caen','Cannes','Chateauroux','Dijon','Evian Thonon Gaillard','Grenoble','Gueugnon','Guingamp','Istres','Le Havre','Le Mans','Lens','Lille','Lorient','Lyon','Marseille','Martigues','Metz','Monaco','Montpellier','Nancy','Nantes','Nice','Paris SG','Reims','Rennes','Sedan','Sochaux','St Etienne','Strasbourg','Toulouse','Troyes','Valenciennes'])}\n",
    "\"\"\")\n",
    "\n",
    "# show ( row(p2, column(sss1,sss2)) )"
   ]
  },
  {
   "cell_type": "code",
   "execution_count": null,
   "metadata": {
    "collapsed": true
   },
   "outputs": [],
   "source": []
  },
  {
   "cell_type": "code",
   "execution_count": 15,
   "metadata": {
    "collapsed": true
   },
   "outputs": [],
   "source": [
    "show ( column( row(p, column(s1,s2)), row(p2, column(sss1,sss2)) ) )"
   ]
  }
 ],
 "metadata": {
  "anaconda-cloud": {},
  "kernelspec": {
   "display_name": "Python [conda root]",
   "language": "python",
   "name": "conda-root-py"
  },
  "language_info": {
   "codemirror_mode": {
    "name": "ipython",
    "version": 2
   },
   "file_extension": ".py",
   "mimetype": "text/x-python",
   "name": "python",
   "nbconvert_exporter": "python",
   "pygments_lexer": "ipython2",
   "version": "2.7.12"
  }
 },
 "nbformat": 4,
 "nbformat_minor": 1
}
