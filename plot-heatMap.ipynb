{
 "cells": [
  {
   "cell_type": "code",
   "execution_count": 16,
   "metadata": {
    "collapsed": true
   },
   "outputs": [],
   "source": [
    "import pandas as pd\n",
    "from math import pi\n",
    "\n",
    "from bokeh.io import output_notebook, show\n",
    "from bokeh.models import ColumnDataSource, HoverTool, LinearColorMapper\n",
    "from bokeh.plotting import figure\n",
    "from bokeh.sampledata.unemployment1948 import data"
   ]
  },
  {
   "cell_type": "code",
   "execution_count": null,
   "metadata": {
    "collapsed": true
   },
   "outputs": [],
   "source": [
    "output_notebook()"
   ]
  },
  {
   "cell_type": "code",
   "execution_count": 2,
   "metadata": {
    "collapsed": true
   },
   "outputs": [],
   "source": [
    "path_in = './data/'  # input path\n",
    "df = pd.read_csv( path_in+'winProb-SP-home-20years.csv' )  # input team raninkg for plotting"
   ]
  },
  {
   "cell_type": "code",
   "execution_count": 3,
   "metadata": {
    "collapsed": true
   },
   "outputs": [],
   "source": [
    "df = df.rename(columns = {'Unnamed: 0':'home team'})\n",
    "df = df.sort_values( ['home team'], ascending=True )\n",
    "\n",
    "home_teams = list( df['home team'] )\n",
    "away_teams = home_teams\n",
    "\n",
    "df.columns = ['home team']+ home_teams \n",
    "df = df.set_index('home team')"
   ]
  },
  {
   "cell_type": "code",
   "execution_count": 4,
   "metadata": {
    "collapsed": true
   },
   "outputs": [],
   "source": [
    "colors = [\"#75968f\", \"#a5bab7\", \"#c9d9d3\", \"#e2e2e2\", \"#dfccce\", \"#ddb7b1\", \"#cc7878\", \"#933b41\", \"#550b1d\"]\n",
    "mapper = LinearColorMapper(palette=colors)\n",
    "# Set up the data for plotting. We will need to have values for every\n",
    "# pair of year/month names. Map the rate to a color."
   ]
  },
  {
   "cell_type": "code",
   "execution_count": 5,
   "metadata": {
    "collapsed": true
   },
   "outputs": [],
   "source": [
    "away_team = []\n",
    "home_team = []\n",
    "color = []\n",
    "win_prob = []\n",
    "for t_h in home_teams:\n",
    "    for t_a in away_teams:\n",
    "        away_team.append( t_a )\n",
    "        home_team.append( t_h )\n",
    "        win_prob.append( df[t_a][t_h] )"
   ]
  },
  {
   "cell_type": "code",
   "execution_count": 6,
   "metadata": {
    "collapsed": true
   },
   "outputs": [],
   "source": [
    "source = ColumnDataSource( data=dict(away_team=away_team, home_team=home_team, win_prob=win_prob) )"
   ]
  },
  {
   "cell_type": "code",
   "execution_count": 7,
   "metadata": {
    "collapsed": true
   },
   "outputs": [],
   "source": [
    "TOOLS = \"hover,save,pan,box_zoom,wheel_zoom\"\n",
    "\n",
    "p = figure(title=\"Win Probability - Spanish La Liga League (1994 - 2016)\",\n",
    "           x_range=home_teams, y_range=list(reversed(away_teams)),\n",
    "           x_axis_location=\"below\", plot_width=700, plot_height=700,\n",
    "           tools=TOOLS)\n",
    "\n",
    "p.grid.grid_line_color = None\n",
    "p.axis.axis_line_color = None\n",
    "p.axis.major_tick_line_color = None\n",
    "p.axis.major_label_text_font_size = \"8pt\"\n",
    "p.axis.major_label_standoff = 0\n",
    "p.xaxis.major_label_orientation = pi / 3\n",
    "\n",
    "p.xaxis.axis_label = 'home team'\n",
    "p.yaxis.axis_label = 'away team'\n",
    "p.xaxis.axis_label_standoff = 0\n",
    "p.axis.axis_label_text_font_size = '15pt'\n",
    "p.title.text_font_size = '15pt'\n",
    "\n",
    "\n",
    "\n",
    "p.rect(x=\"home_team\", y=\"away_team\", width=1, height=1,\n",
    "       source=source,\n",
    "       fill_color={'field': 'win_prob', 'transform': mapper},\n",
    "       line_color=None)\n",
    "\n",
    "p.select_one(HoverTool).tooltips = [\n",
    "    ('home team', '@home_team'),\n",
    "    ('away team', '@away_team'),\n",
    "    ('win probability', '@win_prob'),\n",
    "]\n",
    "\n",
    "show(p) "
   ]
  }
 ],
 "metadata": {
  "kernelspec": {
   "display_name": "Python [conda root]",
   "language": "python",
   "name": "conda-root-py"
  },
  "language_info": {
   "codemirror_mode": {
    "name": "ipython",
    "version": 2
   },
   "file_extension": ".py",
   "mimetype": "text/x-python",
   "name": "python",
   "nbconvert_exporter": "python",
   "pygments_lexer": "ipython2",
   "version": "2.7.12"
  }
 },
 "nbformat": 4,
 "nbformat_minor": 1
}
